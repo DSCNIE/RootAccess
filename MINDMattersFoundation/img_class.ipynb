{
  "cells": [
    {
      "cell_type": "code",
      "execution_count": null,
      "metadata": {
        "id": "9DBFX36QyA5O"
      },
      "outputs": [],
      "source": [
        "import cv2\n",
        "import numpy as np\n",
        "import pandas as pd\n",
        "import matplotlib\n",
        "import matplotlib.pyplot as plt\n",
        "import tensorflow as tf\n",
        "from tensorflow.keras import layers"
      ]
    },
    {
      "cell_type": "code",
      "execution_count": null,
      "metadata": {
        "id": "pKS4wrs_yDXB"
      },
      "outputs": [],
      "source": [
        "batch_size = 100\n",
        "img_height = 300\n",
        "img_width = 300"
      ]
    },
    {
      "cell_type": "code",
      "execution_count": null,
      "metadata": {
        "colab": {
          "base_uri": "https://localhost:8080/"
        },
        "id": "YmwtpU73yhky",
        "outputId": "effff6af-5c45-4b07-aedd-cdf8bef92dcf"
      },
      "outputs": [
        {
          "name": "stdout",
          "output_type": "stream",
          "text": [
            "Found 2313 files belonging to 2 classes.\n",
            "Found 319 files belonging to 2 classes.\n",
            "Found 533 files belonging to 2 classes.\n"
          ]
        }
      ],
      "source": [
        "training_ds = tf.keras.preprocessing.image_dataset_from_directory(\n",
        "    '/content/Container/data/train',  #update\n",
        "    image_size= (img_height, img_width),\n",
        "    batch_size=batch_size\n",
        ")\n",
        "\n",
        "testing_ds = tf.keras.preprocessing.image_dataset_from_directory(\n",
        "    '/content/Container/data/test',  #update\n",
        "    image_size= (img_height, img_width),\n",
        "    batch_size=batch_size)\n",
        "\n",
        "validation_ds =  tf.keras.preprocessing.image_dataset_from_directory(\n",
        "    '/content/Container/data/val',     #update\n",
        "    image_size= (img_height, img_width),\n",
        "    batch_size=batch_size)\n",
        "\n",
        "class_names = training_ds.class_names"
      ]
    },
    {
      "cell_type": "code",
      "execution_count": null,
      "metadata": {
        "colab": {
          "base_uri": "https://localhost:8080/"
        },
        "id": "lGoZ0cikbh97",
        "outputId": "b5424ce0-b44c-47c3-fb53-1e3c023809b8"
      },
      "outputs": [
        {
          "name": "stdout",
          "output_type": "stream",
          "text": [
            "['Accident', 'Non Accident']\n"
          ]
        }
      ],
      "source": [
        "print(class_names)"
      ]
    },
    {
      "cell_type": "code",
      "execution_count": null,
      "metadata": {
        "id": "gUjtesru7tTr"
      },
      "outputs": [],
      "source": [
        "AUTOTUNE = tf.data.experimental.AUTOTUNE\n",
        "training_ds = training_ds.cache().prefetch(buffer_size=AUTOTUNE)\n",
        "testing_ds = testing_ds.cache().prefetch(buffer_size=AUTOTUNE)\n",
        "\n",
        "img_shape = (img_height, img_width, 3)"
      ]
    },
    {
      "cell_type": "code",
      "execution_count": null,
      "metadata": {
        "colab": {
          "base_uri": "https://localhost:8080/"
        },
        "id": "tirJgy798qjR",
        "outputId": "ba484a8c-94ff-4f9b-dc51-63a8f3c77bc6"
      },
      "outputs": [
        {
          "name": "stdout",
          "output_type": "stream",
          "text": [
            "Downloading data from https://storage.googleapis.com/tensorflow/keras-applications/vgg19/vgg19_weights_tf_dim_ordering_tf_kernels_notop.h5\n",
            "80134624/80134624 [==============================] - 0s 0us/step\n"
          ]
        }
      ],
      "source": [
        "base_model = tf.keras.applications.VGG19(input_shape=img_shape,\n",
        "                                               include_top=False,\n",
        "                                               weights='imagenet')\n",
        "\n",
        "base_model.trainable = False\n",
        "\n",
        "model = tf.keras.Sequential([\n",
        "    base_model,\n",
        "    layers.Conv2D(32, 3, activation='relu'),\n",
        "    layers.Conv2D(64, 3, activation='relu'),\n",
        "    layers.Conv2D(128, 3, activation='relu'),\n",
        "    layers.Flatten(),\n",
        "    layers.Dense(len(class_names), activation= 'softmax')\n",
        "])"
      ]
    },
    {
      "cell_type": "code",
      "execution_count": null,
      "metadata": {
        "id": "VieVbNArRFf5"
      },
      "outputs": [],
      "source": [
        "model.compile(optimizer='adam',loss='sparse_categorical_crossentropy', metrics=['accuracy'])"
      ]
    },
    {
      "cell_type": "code",
      "execution_count": null,
      "metadata": {
        "colab": {
          "base_uri": "https://localhost:8080/",
          "height": 349
        },
        "id": "rqZjj2OIRGEx",
        "outputId": "d9e81c26-d2f5-4226-82d8-cc84910474ed"
      },
      "outputs": [],
      "source": [
        "history =  model.fit(training_ds, validation_data = validation_ds, epochs = 2)"
      ]
    },
    {
      "cell_type": "code",
      "execution_count": null,
      "metadata": {
        "id": "qY9QdwsTS9Kl"
      },
      "outputs": [],
      "source": [
        "model.save(\"Accmodel.keras\")"
      ]
    },
    {
      "cell_type": "code",
      "execution_count": null,
      "metadata": {
        "colab": {
          "base_uri": "https://localhost:8080/",
          "height": 255
        },
        "id": "ffP1rqXwfW2D",
        "outputId": "7b244a24-9922-4179-cd3a-c7b261de0ff7"
      },
      "outputs": [
        {
          "data": {
            "image/png": "[encoded data removed]",
            "text/plain": [
              "<Figure size 1000x500 with 2 Axes>"
            ]
          },
          "metadata": {},
          "output_type": "display_data"
        }
      ],
      "source": [
        "fig = plt.figure(figsize=(10,5))\n",
        "\n",
        "plt.subplot(221)\n",
        "plt.plot(history.history['accuracy'], 'bo--', label=\"acc\")\n",
        "plt.plot(history.history['val_accuracy'], 'ro--', label=\"val_acc\"z)\n",
        "plt.ylabel(\"acc\")\n",
        "plt.xlabel(\"epochs\")\n",
        "plt.legend()\n",
        "\n",
        "plt.subplot(222)\n",
        "plt.plot(history.history['loss'], 'bo--', label=\"loss\")\n",
        "plt.plot(history.history['val_loss'], 'ro--', label=\"val_loss\")\n",
        "plt.ylabel(\"loss\")\n",
        "plt.xlabel(\"epochs\")\n",
        "plt.legend()\n",
        "\n",
        "plt.show()"
      ]
    },
    {
      "cell_type": "code",
      "execution_count": null,
      "metadata": {
        "colab": {
          "base_uri": "https://localhost:8080/",
          "height": 1000
        },
        "id": "mMcCoq8cYDNR",
        "outputId": "22aa6aef-ea05-483d-d96c-caab11a67819"
      },
      "outputs": [],
      "source": [
        "AccuracyVector = []\n",
        "plt.figure(figsize=(30, 30))\n",
        "for images, labels in validation_ds.take(1):\n",
        "    predictions = model.predict(images)\n",
        "    predlabel = []\n",
        "    prdlbl = []\n",
        "\n",
        "    for mem in predictions:\n",
        "        predlabel.append(class_names[np.argmax(mem)])\n",
        "        prdlbl.append(np.argmax(mem))\n",
        "\n",
        "    AccuracyVector = np.array(prdlbl) == labels\n",
        "    for i in range(40):\n",
        "        ax = plt.subplot(10, 4, i + 1)\n",
        "        plt.imshow(images[i].numpy().astype(\"uint8\"))\n",
        "        if (predlabel[i] == class_names[labels[i]]):\n",
        "          plt.title('Predict: '+ predlabel[i]+' Ans:'+class_names[labels[i]], color = \"green\")\n",
        "        else:\n",
        "          plt.title('Predict: '+ predlabel[i]+' Ans:'+class_names[labels[i]], color = \"red\")\n",
        "        plt.axis('off')\n",
        "        plt.grid(True)"
      ]
    },
    {
      "cell_type": "code",
      "execution_count": null,
      "metadata": {
        "colab": {
          "base_uri": "https://localhost:8080/",
          "height": 738
        },
        "id": "jLIAafy7ieoK",
        "outputId": "83c1ea8e-0a28-4608-c7c4-5c346d6e72f2"
      },
      "outputs": [],
      "source": [
        "from keras.preprocessing import image\n",
        "from keras.models import load_model\n",
        "saved_model = load_model(\"/content/Accmodel.keras\")\n",
        "img_add = \"non2.jpg\"\n",
        "img = image.load_img(img_add, target_size=(img_width,img_height))\n",
        "img = np.asarray(img)\n",
        "##plt.imshow(img)\n",
        "img = np.expand_dims(img, axis=0)\n",
        "\n",
        "\n",
        "output = saved_model.predict(img)\n",
        "print(output)\n",
        "pred = []\n",
        "prdlbl = []\n",
        "for mem in output:\n",
        "    pred.append(class_names[np.argmax(mem)])\n",
        "plt.figure(figsize=(30, 30))\n",
        "for i in range(len(output)):\n",
        "    #ax = plt.subplot(10, 4, i + 1)\n",
        "    plt.imshow(plt.imread(img_add))\n",
        "    plt.title('Predict: '+ pred[0])"
      ]
    }
  ],
  "metadata": {
    "accelerator": "GPU",
    "colab": {
      "provenance": []
    },
    "kernelspec": {
      "display_name": "Python 3",
      "name": "python3"
    },
    "language_info": {
      "name": "python",
      "version": "3.11.6"
    }
  },
  "nbformat": 4,
  "nbformat_minor": 0
}
